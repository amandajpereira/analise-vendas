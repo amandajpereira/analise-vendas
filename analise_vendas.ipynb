{
 "cells": [
  {
   "cell_type": "code",
   "execution_count": null,
   "id": "09eeebf6",
   "metadata": {},
   "outputs": [],
   "source": [
    "import pandas as pd\n",
    "\n",
    "\n",
    "df = pd.read_csv('dados/vendas.csv')\n",
    "\n",
    "print(\"Primeiras linhas do dataset:\")\n",
    "print(df.head())\n",
    "\n",
    "total_vendas = df['Valor'].sum()\n",
    "print(f\"\\n Total vendido: R$ {total_vendas:.2f}\")\n",
    "\n",
    "vendas_produto = df.groupby('Produto')['Valor'].sum().sort_values(ascending=False)\n",
    "print(\"\\n Total de vendas por produto:\")\n",
    "print(vendas_produto)\n",
    "\n",
    "vendas_vendedor = df.groupby('Vendedor')['Valor'].sum().sort_values(ascending=False)\n",
    "print(\"\\n Total de vendas por vendedor:\")\n",
    "print(vendas_vendedor)\n"
   ]
  },
  {
   "cell_type": "code",
   "execution_count": null,
   "id": "d912cd2e",
   "metadata": {},
   "outputs": [
    {
     "name": "stdout",
     "output_type": "stream",
     "text": [
      "Primeiras linhas do dataset:\n",
      "         Data  Produto Vendedor  Valor\n",
      "0  2024-01-05  Brownie      Ana     20\n",
      "1  2024-01-06   Cookie     João     15\n",
      "2  2024-01-06  Brownie      Ana     20\n",
      "3  2024-01-07    Torta    Maria     30\n",
      "4  2024-01-08  Brownie     João     20\n",
      "\n",
      " Total vendido: R$ 215.00\n",
      "\n",
      " Total de vendas por produto:\n",
      "Produto\n",
      "Torta      90\n",
      "Brownie    80\n",
      "Cookie     45\n",
      "Name: Valor, dtype: int64\n",
      "\n",
      " Total de vendas por vendedor:\n",
      "Vendedor\n",
      "Ana      85\n",
      "João     65\n",
      "Maria    65\n",
      "Name: Valor, dtype: int64\n"
     ]
    }
   ],
   "source": [
    "import pandas as pd\n",
    "\n",
    "\n",
    "df = pd.read_csv('dados/vendas.csv')\n",
    "\n",
    "print(\"Primeiras linhas do dataset:\")\n",
    "print(df.head())\n",
    "\n",
    "total_vendas = df['Valor'].sum()\n",
    "print(f\"\\n Total vendido: R$ {total_vendas:.2f}\")\n",
    "\n",
    "vendas_produto = df.groupby('Produto')['Valor'].sum().sort_values(ascending=False)\n",
    "print(\"\\n Total de vendas por produto:\")\n",
    "print(vendas_produto)\n",
    "\n",
    "vendas_vendedor = df.groupby('Vendedor')['Valor'].sum().sort_values(ascending=False)\n",
    "print(\"\\n Total de vendas por vendedor:\")\n",
    "print(vendas_vendedor)\n",
    "\n"
   ]
  },
  {
   "cell_type": "code",
   "execution_count": 3,
   "id": "f5bf3b79",
   "metadata": {},
   "outputs": [
    {
     "name": "stdout",
     "output_type": "stream",
     "text": [
      " Total de vendas por produto (via PostgreSQL):\n",
      "Torta: R$ 90.00\n",
      "Brownie: R$ 80.00\n",
      "Cookie: R$ 45.00\n"
     ]
    }
   ],
   "source": [
    "import psycopg2\n",
    "\n",
    "conn = psycopg2.connect(\n",
    "    dbname=\"vendas_db\",\n",
    "    user=\"postgres\",            \n",
    "    password=\"152795\",  \n",
    "    host=\"localhost\",\n",
    "    port=\"5432\"\n",
    ")\n",
    "\n",
    "cursor = conn.cursor()\n",
    "\n",
    "query = \"\"\"\n",
    "SELECT produto, SUM(valor) AS total_vendas\n",
    "FROM vendas\n",
    "GROUP BY produto\n",
    "ORDER BY total_vendas DESC\n",
    "\"\"\"\n",
    "\n",
    "cursor.execute(query)\n",
    "resultados = cursor.fetchall()\n",
    "\n",
    "print(\" Total de vendas por produto (via PostgreSQL):\")\n",
    "for produto, total in resultados:\n",
    "    print(f\"{produto}: R$ {total:.2f}\")\n",
    "\n",
    "cursor.close()\n",
    "conn.close()\n"
   ]
  }
 ],
 "metadata": {
  "kernelspec": {
   "display_name": "Python 3",
   "language": "python",
   "name": "python3"
  },
  "language_info": {
   "codemirror_mode": {
    "name": "ipython",
    "version": 3
   },
   "file_extension": ".py",
   "mimetype": "text/x-python",
   "name": "python",
   "nbconvert_exporter": "python",
   "pygments_lexer": "ipython3",
   "version": "3.13.5"
  }
 },
 "nbformat": 4,
 "nbformat_minor": 5
}
